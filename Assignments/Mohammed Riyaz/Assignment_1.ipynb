{
  "nbformat": 4,
  "nbformat_minor": 0,
  "metadata": {
    "colab": {
      "provenance": []
    },
    "kernelspec": {
      "name": "python3",
      "display_name": "Python 3"
    },
    "language_info": {
      "name": "python"
    }
  },
  "cells": [
    {
      "cell_type": "markdown",
      "source": [
        "Basic Python"
      ],
      "metadata": {
        "id": "R6yzTGObXUa7"
      }
    },
    {
      "cell_type": "code",
      "execution_count": 1,
      "metadata": {
        "colab": {
          "base_uri": "https://localhost:8080/"
        },
        "id": "PDV7EPVfXPNS",
        "outputId": "fd693ef5-893b-4485-8d02-8f844e7c141d"
      },
      "outputs": [
        {
          "output_type": "stream",
          "name": "stdout",
          "text": [
            "Hi\n",
            "there\n",
            "Sam!\n"
          ]
        }
      ],
      "source": [
        "s = \"Hi there Sam!\"\n",
        "s_list = s.split(\" \")\n",
        "for i in s_list:\n",
        "  print(i)"
      ]
    },
    {
      "cell_type": "markdown",
      "source": [
        "Use .format() to print the following string."
      ],
      "metadata": {
        "id": "mazTbFSRXgB0"
      }
    },
    {
      "cell_type": "code",
      "source": [
        "planet = \"Earth\"\n",
        "diameter = 12742\n",
        "result = \"The diameter of {Name} is {Value} kilometers\". format(Name = planet, Value = diameter)\n",
        "print(result)"
      ],
      "metadata": {
        "colab": {
          "base_uri": "https://localhost:8080/"
        },
        "id": "0ZBDTRzBXZuh",
        "outputId": "ffe8ad93-544d-47d9-e883-bde1ab9e7ddd"
      },
      "execution_count": 3,
      "outputs": [
        {
          "output_type": "stream",
          "name": "stdout",
          "text": [
            "The diameter of Earth is 12742 kilometers\n"
          ]
        }
      ]
    },
    {
      "cell_type": "markdown",
      "source": [
        "In this nest dictionary grab the word \"hello\""
      ],
      "metadata": {
        "id": "XN4Q5yudXqzj"
      }
    },
    {
      "cell_type": "code",
      "source": [
        "d = {'k1':[1,2,3,{'tricky':['oh','man','inception',{'target':[1,2,3,'hello']}]}]}\n",
        "print(d['k1'][3]['tricky'][3]['target'][3])"
      ],
      "metadata": {
        "colab": {
          "base_uri": "https://localhost:8080/"
        },
        "id": "HlY00CfBXqcn",
        "outputId": "eb98bbf4-538a-44f7-8e43-3ef147f89f0e"
      },
      "execution_count": 4,
      "outputs": [
        {
          "output_type": "stream",
          "name": "stdout",
          "text": [
            "hello\n"
          ]
        }
      ]
    },
    {
      "cell_type": "markdown",
      "source": [
        "Numpy"
      ],
      "metadata": {
        "id": "X7nnxjM8Xzdp"
      }
    },
    {
      "cell_type": "code",
      "source": [
        "import numpy as np\n",
        "arr1 = np.zeros(10)\n",
        "print(arr1)\n",
        "arr2 = np.ones(10)*5\n",
        "print(arr2)\n",
        "arr3 = np.arange(20,35,2)\n",
        "print(arr3)\n",
        "arr4 = np.arange(0,9).reshape(3,3)\n",
        "print(arr4)\n",
        "a = np.array([1, 2, 3])\n",
        "b = np.array([4, 5, 6])\n",
        "arr5 = np.concatenate((a, b))\n",
        "print(arr5)"
      ],
      "metadata": {
        "colab": {
          "base_uri": "https://localhost:8080/"
        },
        "id": "YO1TZEbwX0wD",
        "outputId": "1f4e0f3e-417d-4824-dba8-d25fe0261977"
      },
      "execution_count": 6,
      "outputs": [
        {
          "output_type": "stream",
          "name": "stdout",
          "text": [
            "[0. 0. 0. 0. 0. 0. 0. 0. 0. 0.]\n",
            "[5. 5. 5. 5. 5. 5. 5. 5. 5. 5.]\n",
            "[20 22 24 26 28 30 32 34]\n",
            "[[0 1 2]\n",
            " [3 4 5]\n",
            " [6 7 8]]\n",
            "[1 2 3 4 5 6]\n"
          ]
        }
      ]
    },
    {
      "cell_type": "markdown",
      "source": [
        "Pandas"
      ],
      "metadata": {
        "id": "wsZ7j6_jYH3Y"
      }
    },
    {
      "cell_type": "code",
      "source": [
        "import pandas as pd\n",
        "res = pd.DataFrame(np.random.randint(0,100,size=(3, 2)), columns=list('AB'))\n",
        "print(res)"
      ],
      "metadata": {
        "colab": {
          "base_uri": "https://localhost:8080/"
        },
        "id": "I5m1UJcPYLYi",
        "outputId": "69d4455d-4c13-480e-8eb3-89baa399cb7e"
      },
      "execution_count": 7,
      "outputs": [
        {
          "output_type": "stream",
          "name": "stdout",
          "text": [
            "    A   B\n",
            "0  95  89\n",
            "1  56  37\n",
            "2  20  44\n"
          ]
        }
      ]
    },
    {
      "cell_type": "code",
      "source": [
        "import pandas as pd \n",
        "date = pd.date_range(start ='1-1-2023', end ='5-10-2023', freq ='10D')\n",
        "  \n",
        "for val in date:\n",
        "    print(val)"
      ],
      "metadata": {
        "colab": {
          "base_uri": "https://localhost:8080/"
        },
        "id": "Vk-zKt50YO9D",
        "outputId": "774402d5-53b8-4c94-8c80-b6cd810204ab"
      },
      "execution_count": 8,
      "outputs": [
        {
          "output_type": "stream",
          "name": "stdout",
          "text": [
            "2023-01-01 00:00:00\n",
            "2023-01-11 00:00:00\n",
            "2023-01-21 00:00:00\n",
            "2023-01-31 00:00:00\n",
            "2023-02-10 00:00:00\n",
            "2023-02-20 00:00:00\n",
            "2023-03-02 00:00:00\n",
            "2023-03-12 00:00:00\n",
            "2023-03-22 00:00:00\n",
            "2023-04-01 00:00:00\n",
            "2023-04-11 00:00:00\n",
            "2023-04-21 00:00:00\n",
            "2023-05-01 00:00:00\n"
          ]
        }
      ]
    },
    {
      "cell_type": "code",
      "source": [
        "lst = [[1, 'aaa', 22], [2, 'bbb', 25], [3, 'ccc', 24]]\n",
        "import pandas as pd\n",
        "df = pd.DataFrame(lst, columns =['SNo.', 'Name', 'Age']) \n",
        "print(df)"
      ],
      "metadata": {
        "colab": {
          "base_uri": "https://localhost:8080/"
        },
        "id": "gqA-bY4GYUoP",
        "outputId": "88d8622e-3ca0-429d-f176-62b00ec5a363"
      },
      "execution_count": 9,
      "outputs": [
        {
          "output_type": "stream",
          "name": "stdout",
          "text": [
            "   SNo. Name  Age\n",
            "0     1  aaa   22\n",
            "1     2  bbb   25\n",
            "2     3  ccc   24\n"
          ]
        }
      ]
    }
  ]
}